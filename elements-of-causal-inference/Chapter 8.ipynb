{
 "cells": [
  {
   "cell_type": "code",
   "execution_count": 1,
   "metadata": {},
   "outputs": [],
   "source": [
    "import numpy as np\n",
    "%matplotlib inline\n",
    "from matplotlib import pyplot as plt\n",
    "import seaborn as sns\n",
    "np.random.seed(1234)"
   ]
  },
  {
   "cell_type": "markdown",
   "metadata": {},
   "source": [
    "$$\n",
    "%linalg\n",
    "\\newcommand{\\mat}[1]{\\begin{pmatrix} #1 \\end{pmatrix}}\n",
    "\\newcommand{\\detmat}[1]{\\begin{vmatrix} #1 \\end{vmatrix}}\n",
    "\\newcommand{\\spanb}[1]{\\text{span}\\{ #1 \\}}\n",
    "\\DeclareMathOperator{\\conv}{conv} % convex hull\n",
    "\\DeclareMathOperator{\\cone}{cone}\n",
    "\\DeclareMathOperator{\\vectorize}{vec}\n",
    "\\DeclareMathOperator{\\matricize}{mat}\n",
    "\\DeclareMathOperator{\\adj}{adj}\n",
    "\\DeclareMathOperator{\\diag}{diag}\n",
    "\\DeclareMathOperator{\\tr}{tr}\n",
    "\\DeclareMathOperator{\\rank}{rank}\n",
    "\\DeclareMathOperator*{\\argmin}{argmin}\n",
    "\\DeclareMathOperator*{\\proj}{proj}\n",
    "% brackets, norms, cardinalities\n",
    "\\newcommand{\\pa}[1]{ \\left({#1}\\right) }\n",
    "\\newcommand{\\ha}[1]{ \\left[{#1}\\right] }\n",
    "\\newcommand{\\ca}[1]{ \\left\\{{#1}\\right\\} }\n",
    "\\newcommand{\\inner}[1]{\\left\\langle #1 \\right\\rangle}\n",
    "\\newcommand{\\innercpy}[1]{\\inner{ #1, #1 }}\n",
    "\\newcommand{\\norm}[1]{\\left\\| #1 \\right\\|}\n",
    "\\newcommand{\\abs}[1]{\\left|{#1}\\right|}\n",
    "\\newcommand{\\card}[1]{\\left\\vert{#1}\\right\\vert}\n",
    "% math vectors\n",
    "\\newcommand{\\va}{\\textbf{a}}\n",
    "\\newcommand{\\vb}{\\textbf{b}}\n",
    "\\newcommand{\\vc}{\\textbf{c}}\n",
    "\\newcommand{\\vd}{\\textbf{d}}\n",
    "\\newcommand{\\ve}{\\textbf{e}}\n",
    "\\newcommand{\\vf}{\\textbf{f}}\n",
    "\\newcommand{\\vg}{\\textbf{g}}\n",
    "\\newcommand{\\vh}{\\textbf{h}}\n",
    "\\newcommand{\\vi}{\\textbf{i}}\n",
    "\\newcommand{\\vj}{\\textbf{j}}\n",
    "\\newcommand{\\vk}{\\textbf{k}}\n",
    "\\newcommand{\\vl}{\\textbf{l}}\n",
    "\\newcommand{\\vm}{\\textbf{m}}\n",
    "\\newcommand{\\vn}{\\textbf{n}}\n",
    "\\newcommand{\\vo}{\\textbf{o}}\n",
    "\\newcommand{\\vp}{\\textbf{p}}\n",
    "\\newcommand{\\vq}{\\textbf{q}}\n",
    "\\newcommand{\\vr}{\\textbf{r}}\n",
    "\\newcommand{\\vs}{\\textbf{s}}\n",
    "\\newcommand{\\vt}{\\textbf{t}}\n",
    "\\newcommand{\\vu}{\\textbf{u}}\n",
    "\\newcommand{\\vv}{\\textbf{v}}\n",
    "\\newcommand{\\vw}{\\textbf{w}}\n",
    "\\newcommand{\\vx}{\\textbf{x}}\n",
    "\\newcommand{\\vy}{\\textbf{y}}\n",
    "\\newcommand{\\vz}{\\textbf{z}}\n",
    "\\newcommand{\\vzero}{\\textbf{0}}\n",
    "\\newcommand{\\vone}{\\textbf{1}} \n",
    "\\newcommand{\\valpha}{{\\boldsymbol\\alpha}}\n",
    "\\newcommand{\\vepsilon}{{\\boldsymbol\\epsilon}}\n",
    "\\newcommand{\\vnu}{{\\boldsymbol\\nu}}\n",
    "\\newcommand{\\vpi}{{\\boldsymbol\\pi}}\n",
    "\\newcommand{\\veta}{{\\boldsymbol\\eta}}\n",
    "\\newcommand{\\vsigma}{ {\\boldsymbol\\sigma}}\n",
    "\\newcommand{\\vbeta}{ {\\boldsymbol\\beta}}\n",
    "\\newcommand{\\vtheta}{ {\\boldsymbol\\theta}}\n",
    "\\newcommand{\\vdelta}{ {\\boldsymbol\\delta}}\n",
    "\\newcommand{\\vlambda}{ {\\boldsymbol\\lambda}}\n",
    "\\newcommand{\\vmu}{ {\\boldsymbol\\mu}}\n",
    "% common math sets\n",
    "\\newcommand{\\Z}{\\mathbb{Z}}\n",
    "\\newcommand{\\R}{\\mathbb{R}}\n",
    "\\newcommand{\\C}{\\mathbb{C}}\n",
    "\\newcommand{\\N}{\\mathbb{N}}\n",
    "\\newcommand{\\Q}{\\mathbb{Q}}\n",
    "\\newcommand{\\F}{\\mathbb{F}}\n",
    "\\newcommand{\\T}{\\mathbb{T}}\n",
    "% limits\n",
    "\\def\\sumn{\\sum_{n=0}^\\infty}\n",
    "\\def\\limn{\\lim_{n\\rightarrow\\infty}}\n",
    "\\def\\prodn{\\prod_{n=0}^\\infty}\n",
    "% mathcal\n",
    "\\newcommand{\\mcA}{\\mathcal{A}}\n",
    "\\newcommand{\\mcB}{\\mathcal{B}}\n",
    "\\newcommand{\\mcC}{\\mathcal{C}}\n",
    "\\newcommand{\\mcD}{\\mathcal{D}}\n",
    "\\newcommand{\\mcE}{\\mathcal{E}}\n",
    "\\newcommand{\\mcF}{\\mathcal{F}}\n",
    "\\newcommand{\\mcG}{\\mathcal{G}}\n",
    "\\newcommand{\\mcH}{\\mathcal{H}}\n",
    "\\newcommand{\\mcI}{\\mathcal{I}}\n",
    "\\newcommand{\\mcJ}{\\mathcal{J}}\n",
    "\\newcommand{\\mcK}{\\mathcal{K}}\n",
    "\\newcommand{\\mcL}{\\mathcal{L}}\n",
    "\\newcommand{\\mcM}{\\mathcal{M}}\n",
    "\\newcommand{\\mcN}{\\mathcal{N}}\n",
    "\\newcommand{\\mcO}{\\mathcal{O}}\n",
    "\\newcommand{\\mcP}{\\mathcal{P}}\n",
    "\\newcommand{\\mcQ}{\\mathcal{Q}}\n",
    "\\newcommand{\\mcR}{\\mathcal{R}}\n",
    "\\newcommand{\\mcS}{\\mathcal{S}}\n",
    "\\newcommand{\\mcT}{\\mathcal{T}}\n",
    "\\newcommand{\\mcU}{\\mathcal{U}}\n",
    "\\newcommand{\\mcV}{\\mathcal{V}}\n",
    "\\newcommand{\\mcW}{\\mathcal{W}}\n",
    "\\newcommand{\\mcX}{\\mathcal{X}}\n",
    "\\newcommand{\\mcY}{\\mathcal{Y}}\n",
    "\\newcommand{\\mcZ}{\\mathcal{Z}}\n",
    "% distribs, probability\n",
    "\\newcommand{\\disteq}{\\overset{d}{=}}\n",
    "\\newcommand\\independent{\\perp \\!\\!\\! \\perp}\n",
    "\\DeclareMathOperator{\\Laplace}{Laplace}\n",
    "\\DeclareMathOperator{\\Poisson}{Poisson}\n",
    "\\DeclareMathOperator{\\Exponential}{Exponential}\n",
    "\\DeclareMathOperator{\\Multinomial}{Multinomial}\n",
    "\\DeclareMathOperator{\\Bernoulli}{Bernoulli}\n",
    "\\DeclareMathOperator{\\Categorical}{Categorical}\n",
    "\\DeclareMathOperator{\\Uniform}{Uniform}\n",
    "\\DeclareMathOperator{\\Binomial}{Binomial}\n",
    "\\DeclareMathOperator{\\Hypergeometric}{Hypergeometric}\n",
    "\\DeclareMathOperator{\\GammaDist}{Gamma}\n",
    "\\DeclareMathOperator{\\NegativeBinomial}{NegativeBinomial}\n",
    "\\DeclareMathOperator\\sub{sub}\n",
    "\\renewcommand{\\d}[1]{\\mathop{\\mathrm{d} #1 }}\n",
    "\\newcommand{\\dkl}[2]{\\mathop{D_\\mathrm{KL}}\\left({#1}\\;\\middle\\|\\;{#2}\\right)}\n",
    "\\newcommand{\\sg}{\\mathop{\\mathrm{SG}}}\n",
    "\\newcommand{\\se}{\\mathop{\\mathrm{SE}}}\n",
    "%operators\n",
    "\\DeclareMathOperator{\\power}{{\\mathcal{P}}}\n",
    "\\DeclareMathOperator{\\var}{var}\n",
    "\\DeclareMathOperator{\\cov}{cov}\n",
    "\\DeclareMathOperator\\mathProb{\\mathbb{P}}\n",
    "\\DeclareMathOperator\\mathExp{\\mathbb{E}}\n",
    "\\DeclareMathOperator*\\mathExpUnder{\\mathbb{E}}\n",
    "\\DeclareMathOperator*\\fat{fat}\n",
    "\\renewcommand{\\P}{\\mathProb} % need to overwrite stupid paragraph symbol\n",
    "\\newcommand{\\E}{\\mathExp} % need to overwrite stupid paragraph symbol\n",
    "\\newcommand{\\set}[2]{ \\left\\{ #1 \\,\\middle|\\, #2 \\right\\} }\n",
    "\\newcommand{\\CE}[2]{ \\mathExp\\left[ #1 \\,\\middle|\\, #2 \\right] }\n",
    "$$"
   ]
  },
  {
   "cell_type": "markdown",
   "metadata": {},
   "source": [
    "# Problem 8.3\n",
    "\n",
    "_Consider the DAG $Q\\rightarrow Y,N\\rightarrow Y,X,R\\rightarrow X$, where $X$ is the half-sibling of $Y$. If $Y\\gets Q+f(N)$ then $Y-\\CE{Y}{X}$ recovers $Q$ up to additive shift. Why?_.\n",
    "\n",
    "Causal faithfulness of the joint distribution $P=(Y, N, R, Q, X)$ with respect to the diagram Figure 8.1 means that we don't have all independence statements entailed by the graph $\\mcG$ on $P$, but also the converse.\n",
    "\n",
    "In particular, if it was the case that $X\\independent_P Y$ then the diagram would be invalid, since it has a nonblocking path $Y\\leftarrow N\\rightarrow X$.\n",
    "\n",
    "However, since $P$ is also Markov wrt $\\mcG$, $X\\independent_P Q$.\n",
    "\n",
    "If $X$ has no information about $Q$, but has information about $Y$, we can deduce $Q$ from $Y$ by taking out the $X$ component. That is, $Y-\\CE{Y}{X}$ helps up to $\\var(Y-Q|X)\\le \\var (Y-Q)$. "
   ]
  },
  {
   "cell_type": "markdown",
   "metadata": {},
   "source": [
    "# Problem 8.4\n",
    "\n",
    "_Consider an SCM\n",
    "$$\n",
    "Z\\gets N(0,1)\\\\\n",
    "Y\\gets Z^2 + N(0,1)\n",
    "$$\n",
    "and an intervention $\\mathrm{do}(Z=N(2,1))$. Denote the law under intervention with a tilde._\n",
    "\n",
    "_(A) Compute $\\E Y$ and $\\tilde\\E Y$._\n",
    "\n",
    "$\\E Y=\\E Z^2=\\var Z=1$ and $\\tilde \\E Y = \\tilde \\E Z^2 = \\var Z + \\E^2Z=5$.\n",
    "\n",
    "_(B) Sample the observational distribution and plot along with its Horvitz-Thompson estimator from the the observational distribution._\n",
    "\n",
    "_(C) Compute the estimate in (B) and the empirical variance of the weights for varying sample sizes._"
   ]
  },
  {
   "cell_type": "code",
   "execution_count": 2,
   "metadata": {},
   "outputs": [
    {
     "data": {
      "image/png": "[encoded data removed]",
      "text/plain": [
       "<Figure size 432x288 with 1 Axes>"
      ]
     },
     "metadata": {
      "needs_background": "light"
     },
     "output_type": "display_data"
    }
   ],
   "source": [
    "n = 200\n",
    "def generate(n):\n",
    "    z = np.random.randn(n)\n",
    "    ny = np.random.randn(n)\n",
    "    return z, z ** 2 + ny\n",
    "\n",
    "from scipy.stats import norm\n",
    "stdn = norm()\n",
    "\n",
    "def iw(z):\n",
    "    return np.exp(stdn.logpdf(z - 2) - stdn.logpdf(z))\n",
    "\n",
    "z, y = generate(n)\n",
    "\n",
    "pred = iw(z).dot(y) / len(z)\n",
    "sns.kdeplot(y, shade=True, label='observational')\n",
    "plt.axvline(pred, color='red', ls='--', label='estimated')\n",
    "plt.axvline(5, color='black', label='actual')\n",
    "plt.xlabel('Y')\n",
    "plt.ylabel('pdf')\n",
    "plt.legend()\n",
    "plt.show()"
   ]
  },
  {
   "cell_type": "markdown",
   "metadata": {},
   "source": [
    "We can estimate importance weights variance explicitly in this case. We'll consider general interventions $N(\\mu,1)$.\n",
    "$$\n",
    "\\begin{align*}\n",
    "\\var \\frac{\\tilde p(Z)}{p(Z)}&=\\var \\exp\\pa{\\frac{-1}{2}\\pa{(Z-\\mu)^2-Z^2}}\\\\\n",
    "&=\\var\\exp\\pa{\\mu Z - \\mu^2/2}\\\\\n",
    "&=\\exp(-\\mu^2)\\pa{\\E\\exp(2\\mu Z)-\\E^2\\exp(\\mu Z)}\\\\\n",
    "&=\\exp(-\\mu^2)\\pa{\\exp(2\\mu^2)-\\exp(\\mu^2)}\\\\\n",
    "&=\\exp(\\mu^2)-1\\,\\,,\n",
    "\\end{align*}\n",
    "$$\n",
    "relying on the MGF of the standard Normal."
   ]
  },
  {
   "cell_type": "code",
   "execution_count": 9,
   "metadata": {},
   "outputs": [
    {
     "name": "stdout",
     "output_type": "stream",
     "text": [
      "iw mean 0.9991936845209501\n",
      "est     4.998024862175442\n",
      "est se  0.07230498955555534\n",
      "iw empirical var  57.656334668118326\n",
      "iw actual var     53.598150033144236\n"
     ]
    }
   ],
   "source": [
    "n = 4 * 10 ** 6\n",
    "z, y = generate(n)\n",
    "x = iw(z)\n",
    "print('iw mean', x.mean())\n",
    "print('est    ', x.dot(y) / len(x))\n",
    "print('est se ', np.std(x * y) / np.sqrt(len(x)))\n",
    "\n",
    "print('iw empirical var ', x.var())\n",
    "print('iw actual var    ', np.exp(4) - 1)"
   ]
  },
  {
   "cell_type": "code",
   "execution_count": 17,
   "metadata": {},
   "outputs": [
    {
     "data": {
      "image/png": "[encoded data removed]",
      "text/plain": [
       "<Figure size 432x288 with 1 Axes>"
      ]
     },
     "metadata": {
      "needs_background": "light"
     },
     "output_type": "display_data"
    }
   ],
   "source": [
    "# See Gretton et al KMM for effective sample size\n",
    "# justification n^2/||beta||^2\n",
    "ns = np.logspace(1, 5, 20).astype(int)\n",
    "effective_sample_size = []\n",
    "precisions = []\n",
    "for n in ns:\n",
    "    nsamples_sizen = (10 ** 6 // n)\n",
    "    z, y = generate(nsamples_sizen * n)\n",
    "    x = iw(z)\n",
    "    beta_avg = x.dot(x) / nsamples_sizen\n",
    "    effective_sample_size.append(n**2/beta_avg)\n",
    "    \n",
    "    x = x.reshape(nsamples_sizen, -1)\n",
    "    y = y.reshape(*x.shape)\n",
    "    preds = (x * y).sum(axis=-1) / x.shape[1]\n",
    "    precision = (preds - 5).var() ** (-1)\n",
    "    precisions.append(precision)\n",
    "    \n",
    "plt.loglog(ns, ns, label='unity')\n",
    "plt.loglog(ns, effective_sample_size, label='KMM estimate')\n",
    "plt.loglog(ns, precisions, label='precision')\n",
    "plt.legend()\n",
    "\n",
    "plt.xlabel('sample size')\n",
    "plt.ylabel('effective sample size')\n",
    "\n",
    "plt.show()"
   ]
  },
  {
   "cell_type": "markdown",
   "metadata": {},
   "source": [
    "# Problem 8.5\n",
    "\n",
    "_Consider the generalized covariate shift setting for domain adaptation described in Section 8.3, which amounts to an SCM with variables $Y,X_1,\\cdots, X_d, E$ with $E\\not\\in\\mathrm{Pa}(Y)$ and $\\mathrm{Pa}(E)=\\emptyset$. Show that if for some set $S$ of $X_i$ we have $Y\\independent E|S$, that there then exists a set $S'\\subset M$ with $Y\\independent E|S'$ and $Y\\independent (S\\setminus S')|S'$, where $M$ is the Markov blanket of $Y$._\n",
    "\n",
    "By definition, $S'=M$ satisfies the above conditions, trivially if $(S\\setminus M)=\\emptyset$.\n",
    "\n",
    "Of course, that's not really interesting.\n",
    "\n",
    "By $d$-separation, in a DAG, nodes connected by open paths to a set $S$ are to exactly the set unioning\n",
    "\n",
    "1. Ancestors of $S$\n",
    "2. Descendants of $S$\n",
    "3. Descendants of ancestors $S$\n",
    "4. $S$ itself\n",
    "\n",
    "This corresponds to the fact that all open paths must look like zero or more $\\leftarrow$ followed by zero or more $\\rightarrow$\n",
    "\n",
    "Thus only the intersection between $M$ and the set above is the minimal set $S'$ blocking $Y$ from $S\\setminus S'$.\n",
    "\n",
    "Then, any path from $E$ to $Y$ is by assumption blocked by a node $N$ in either $S\\cap S'$ or $S\\setminus S'$. If the the latter, there's a node in $S'$ blocking all paths from $N$ to $Y$."
   ]
  },
  {
   "cell_type": "code",
   "execution_count": null,
   "metadata": {},
   "outputs": [],
   "source": []
  }
 ],
 "metadata": {
  "kernelspec": {
   "display_name": "Python 3",
   "language": "python",
   "name": "python3"
  },
  "language_info": {
   "codemirror_mode": {
    "name": "ipython",
    "version": 3
   },
   "file_extension": ".py",
   "mimetype": "text/x-python",
   "name": "python",
   "nbconvert_exporter": "python",
   "pygments_lexer": "ipython3",
   "version": "3.7.4"
  }
 },
 "nbformat": 4,
 "nbformat_minor": 2
}
